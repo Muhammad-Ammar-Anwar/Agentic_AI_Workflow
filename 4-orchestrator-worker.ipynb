{
 "cells": [
  {
   "cell_type": "code",
   "execution_count": 1,
   "id": "61c02d98",
   "metadata": {},
   "outputs": [
    {
     "data": {
      "text/plain": [
       "True"
      ]
     },
     "execution_count": 1,
     "metadata": {},
     "output_type": "execute_result"
    }
   ],
   "source": [
    "import os \n",
    "from dotenv import load_dotenv, load_dotenv\n",
    "\n",
    "load_dotenv()"
   ]
  },
  {
   "cell_type": "code",
   "execution_count": 2,
   "id": "e0be3499",
   "metadata": {},
   "outputs": [],
   "source": [
    "os.environ['GROQ_API_KEY']=os.getenv('GROQ_API_KEY')\n"
   ]
  },
  {
   "cell_type": "code",
   "execution_count": 3,
   "id": "8aba0900",
   "metadata": {},
   "outputs": [
    {
     "data": {
      "text/plain": [
       "'How can I assist you today?'"
      ]
     },
     "execution_count": 3,
     "metadata": {},
     "output_type": "execute_result"
    }
   ],
   "source": [
    "from langchain_groq import ChatGroq\n",
    "\n",
    "llm=ChatGroq(model='llama-3.1-8b-instant')\n",
    "llm.invoke('hi').content"
   ]
  },
  {
   "cell_type": "code",
   "execution_count": 4,
   "id": "154a239d",
   "metadata": {},
   "outputs": [],
   "source": [
    "from typing import Annotated, List\n",
    "import operator\n",
    "import json\n",
    "from typing_extensions import Literal, TypedDict\n",
    "from pydantic import BaseModel, Field\n",
    "from langchain_core.messages import HumanMessage, SystemMessage\n"
   ]
  },
  {
   "cell_type": "code",
   "execution_count": 5,
   "id": "0c8227a8",
   "metadata": {},
   "outputs": [],
   "source": [
    "class Section(BaseModel):\n",
    "    name: str = Field(description=\"Name for this section of the report\")\n",
    "    description: str = Field(description=\"Brief Overview of the main topics and concepts of the section\")\n",
    "\n",
    "class Sections(BaseModel):\n",
    "    sections: list[Section] = Field(description=\"Sections of the report\")\n",
    "\n",
    "# Use JSON-format prompting instead of function calling to avoid Groq tool_use restrictions\n",
    "def parse_sections(text: str) -> Sections:\n",
    "    try:\n",
    "        data = json.loads(text)\n",
    "        return Sections(**data)\n",
    "    except Exception:\n",
    "        # Attempt to extract JSON block from text\n",
    "        import re\n",
    "        matches = re.findall(r\"\\{[\\s\\S]*\\}\", text)\n",
    "        for m in matches:\n",
    "            try:\n",
    "                data = json.loads(m)\n",
    "                return Sections(**data)\n",
    "            except Exception:\n",
    "                continue\n",
    "        raise ValueError(\"Failed to parse sections JSON from model output\")\n",
    "\n",
    "planner_prompt = (\n",
    "    \"You are a planning assistant. Return ONLY valid JSON with this schema: \"\n",
    "    '{\"sections\": [{\"name\": string, \"description\": string}, ...]}.'\n",
    "    \" No extra text.\"\n",
    ")\n"
   ]
  },
  {
   "cell_type": "markdown",
   "id": "0e6b11d8",
   "metadata": {},
   "source": [
    "# create workers Dynamically in langgraph"
   ]
  },
  {
   "cell_type": "code",
   "execution_count": 6,
   "id": "14001a0f",
   "metadata": {},
   "outputs": [],
   "source": [
    "from langgraph.types import Send\n",
    "\n",
    "class State(TypedDict):\n",
    "    topic: str\n",
    "    sections: list[Section]\n",
    "    completed_sections: Annotated[list, operator.add]\n",
    "    final_report: str\n",
    "\n",
    "class WorkerState(TypedDict):\n",
    "    section: Section\n",
    "    completed_sections: Annotated[list, operator.add]\n"
   ]
  },
  {
   "cell_type": "code",
   "execution_count": 7,
   "id": "facdd4bf",
   "metadata": {},
   "outputs": [],
   "source": [
    "def orchestrator(state: State):\n",
    "    \"\"\"Orchestrator that generates a plan for the report\"\"\"\n",
    "\n",
    "    # Ask the LLM to return JSON and parse it\n",
    "    response = llm.invoke(\n",
    "        [\n",
    "            SystemMessage(content=planner_prompt),\n",
    "            HumanMessage(content=f\"Here is the report topic: {state['topic']}\"),\n",
    "        ]\n",
    "    )\n",
    "    parsed = parse_sections(response.content)\n",
    "\n",
    "    print(\"Report Sections:\", parsed)\n",
    "\n",
    "    return {\"sections\": parsed.sections}"
   ]
  },
  {
   "cell_type": "code",
   "execution_count": 8,
   "id": "66a60387",
   "metadata": {},
   "outputs": [],
   "source": [
    "def llm_call(state: WorkerState):\n",
    "    section = llm.invoke(\n",
    "        [\n",
    "            SystemMessage(\n",
    "                content=(\n",
    "                    \"Write a report section following the provided name and description. \"\n",
    "                    \"Include no preamble for each section. Use markdown formatting.\"\n",
    "                )\n",
    "            ),\n",
    "            HumanMessage(\n",
    "                content=(\n",
    "                    f\"Here is the section name: {state['section'].name} and description: \"\n",
    "                    f\"{state['section'].description}\"\n",
    "                )\n",
    "            ),\n",
    "        ]\n",
    "    )\n",
    "    return {\"completed_sections\": [section.content]}"
   ]
  },
  {
   "cell_type": "code",
   "execution_count": 9,
   "id": "17fa2eed",
   "metadata": {},
   "outputs": [],
   "source": [
    "def assign_workers(state: State):\n",
    "    \"\"\"Assign a worker to each section in the plan\"\"\"\n",
    "\n",
    "    return [Send(\"llm_call\", {\"section\": s}) for s in state[\"sections\"]]"
   ]
  },
  {
   "cell_type": "code",
   "execution_count": 10,
   "id": "06e5eaed",
   "metadata": {},
   "outputs": [],
   "source": [
    "def synthesizer(state: State):\n",
    "    \"\"\"Synthesize full report from sections\"\"\"\n",
    "\n",
    "    completed_sections = state[\"completed_sections\"]\n",
    "\n",
    "    complete_report_sections = \"\\n\\n---\\n\\n\".join(completed_sections)\n",
    "\n",
    "    return {\"final_report\": complete_report_sections}\n"
   ]
  },
  {
   "cell_type": "code",
   "execution_count": 11,
   "id": "982f095e",
   "metadata": {},
   "outputs": [
    {
     "data": {
      "image/png": "[encoded data removed]",
      "text/plain": [
       "<IPython.core.display.Image object>"
      ]
     },
     "metadata": {},
     "output_type": "display_data"
    }
   ],
   "source": [
    "from langgraph.graph import StateGraph, START, END\n",
    "from IPython.display import Image, display\n",
    "\n",
    "oechistrator_worker_builder = StateGraph(State)\n",
    "oechistrator_worker_builder.add_node(\"orchestrator\", orchestrator)\n",
    "oechistrator_worker_builder.add_node(\"llm_call\", llm_call)\n",
    "oechistrator_worker_builder.add_node(\"synthesizer\", synthesizer)\n",
    "\n",
    "oechistrator_worker_builder.add_edge(START, \"orchestrator\")\n",
    "oechistrator_worker_builder.add_conditional_edges(\n",
    "    \"orchestrator\", assign_workers, [\"llm_call\"]\n",
    ")\n",
    "oechistrator_worker_builder.add_edge(\"llm_call\", \"synthesizer\")\n",
    "oechistrator_worker_builder.add_edge(\"synthesizer\", END)\n",
    "\n",
    "orchestrator_worker = oechistrator_worker_builder.compile()\n",
    "\n",
    "display(Image(orchestrator_worker.get_graph().draw_mermaid_png()))\n"
   ]
  },
  {
   "cell_type": "code",
   "execution_count": 12,
   "id": "2c38525c",
   "metadata": {},
   "outputs": [
    {
     "name": "stdout",
     "output_type": "stream",
     "text": [
      "Report Sections: sections=[Section(name='Introduction', description='Agentic AI refers to artificial intelligence systems that possess a sense of agency, autonomy, and self-awareness, enabling them to take actions and make decisions independently.'), Section(name='Types of Agentic AI', description='There are several types of agentic AI, including rule-based systems, machine learning models, and cognitive architectures. Each type has its strengths and limitations in terms of decision-making and action-taking capabilities.'), Section(name='Benefits of Agentic AI', description='Agentic AI can bring numerous benefits, such as increased efficiency, improved decision-making, and enhanced creativity. It can also enable humans to focus on higher-level tasks, leading to increased productivity and innovation.'), Section(name='Challenges and Risks', description='However, agentic AI also poses significant challenges and risks, including the potential for unintended consequences, bias, and job displacement. It is essential to develop strategies to mitigate these risks and ensure that agentic AI is developed and used responsibly.'), Section(name='Real-World Applications', description='Agentic AI has various real-world applications, including robotics, autonomous vehicles, and customer service chatbots. These applications demonstrate the potential of agentic AI to transform industries and improve lives.'), Section(name='Future Directions', description='As agentic AI continues to evolve, it is essential to explore new areas of research and development, such as explainability, transparency, and accountability. This will enable us to create more sophisticated and trustworthy agentic AI systems that can benefit society as a whole.')]\n"
     ]
    },
    {
     "data": {
      "text/markdown": [
       "### **Introduction**\n",
       "\n",
       "Agentic AI refers to artificial intelligence systems that possess a sense of agency, autonomy, and self-awareness, enabling them to take actions and make decisions independently. This concept is crucial in the development of advanced AI technologies, as it allows for the creation of systems that can interact and adapt to their environment in a more human-like manner.\n",
       "\n",
       "### **Key Characteristics**\n",
       "\n",
       "- **Agency**: The ability to act independently and make decisions without being explicitly programmed.\n",
       "- **Autonomy**: The capacity to operate without external control or supervision.\n",
       "- **Self-Awareness**: The ability to have a sense of its own existence, goals, and limitations.\n",
       "\n",
       "### **Implications of Agentic AI**\n",
       "\n",
       "The development of agentic AI has significant implications for various fields, including:\n",
       "\n",
       "- **Robotics**: Enabling robots to learn and adapt to new situations without human intervention.\n",
       "- **Decision-Making**: Allowing AI systems to make decisions autonomously, without human oversight.\n",
       "- **Human-AI Interaction**: Creating more natural and intuitive interfaces between humans and AI systems.\n",
       "\n",
       "### **Challenges and Limitations**\n",
       "\n",
       "While agentic AI holds great promise, it also raises several challenges and limitations, including:\n",
       "\n",
       "- **Safety and Control**: Ensuring that agentic AI systems do not become uncontrollable or pose a threat to human safety.\n",
       "- **Explainability**: Understanding how agentic AI systems make decisions and ensuring that their actions are transparent and explainable.\n",
       "- **Value Alignment**: Aligning the goals and values of agentic AI systems with human values and ethics.\n",
       "\n",
       "---\n",
       "\n",
       "### Types of Agentic AI\n",
       "\n",
       "#### Rule-Based Systems\n",
       "\n",
       "* **Description**: Rule-based systems use a set of predefined rules to reason and take actions. These rules are typically created by humans and are used to represent domain-specific knowledge.\n",
       "* **Strengths**: Rule-based systems are easy to understand and maintain, and they can be very effective in well-defined domains where the rules are clear.\n",
       "* **Limitations**: Rule-based systems can struggle with uncertainty and ambiguity, and they can be inflexible in the face of changing circumstances.\n",
       "\n",
       "#### Machine Learning Models\n",
       "\n",
       "* **Description**: Machine learning models use data to learn and improve their decision-making capabilities. They can be trained on large datasets and can adapt to changing circumstances.\n",
       "* **Strengths**: Machine learning models can handle uncertainty and ambiguity, and they can learn from experience.\n",
       "* **Limitations**: Machine learning models require large amounts of data to train, and they can be slow to adapt to changing circumstances.\n",
       "\n",
       "#### Cognitive Architectures\n",
       "\n",
       "* **Description**: Cognitive architectures are software frameworks that simulate the structure and function of the human brain. They use a combination of rule-based and machine learning approaches to reason and take actions.\n",
       "* **Strengths**: Cognitive architectures can simulate human-like decision-making and can handle complex, dynamic environments.\n",
       "* **Limitations**: Cognitive architectures are still in the early stages of development, and they can be difficult to train and maintain.\n",
       "\n",
       "---\n",
       "\n",
       "### Benefits of Agentic AI\n",
       "\n",
       "#### Increased Efficiency\n",
       "\n",
       "Agentic AI can automate repetitive and mundane tasks, freeing up human resources to focus on more complex and strategic tasks. By streamlining processes and eliminating manual errors, agentic AI can lead to significant improvements in efficiency.\n",
       "\n",
       "#### Improved Decision-Making\n",
       "\n",
       "Agentic AI can analyze vast amounts of data, identify patterns, and provide data-driven recommendations. This enables humans to make more informed decisions, reducing the risk of errors and increasing the likelihood of success.\n",
       "\n",
       "#### Enhanced Creativity\n",
       "\n",
       "Agentic AI can generate new ideas, explore novel solutions, and collaborate with humans to create innovative products and services. By leveraging the strengths of both humans and AI, agentic AI can unlock new possibilities and drive innovation.\n",
       "\n",
       "#### Enhanced Productivity and Innovation\n",
       "\n",
       "By automating routine tasks and enabling humans to focus on higher-level tasks, agentic AI can lead to increased productivity and innovation. This can result in significant economic benefits, improved competitiveness, and enhanced overall well-being.\n",
       "\n",
       "---\n",
       "\n",
       "### Challenges and Risks\n",
       "\n",
       "#### Unintended Consequences\n",
       "\n",
       "- **Lack of Transparency**: Agentic AI systems may not provide clear explanations for their actions, making it difficult to understand and anticipate unintended consequences.\n",
       "- **Complexity**: The complexity of agentic AI systems can lead to unforeseen interactions and outcomes, increasing the risk of unintended consequences.\n",
       "\n",
       "#### Bias\n",
       "\n",
       "- **Data Bias**: Agentic AI systems are only as good as the data they are trained on, and if the data is biased, the system will also be biased.\n",
       "- **Lack of Diversity**: If the development team lacks diversity, it may lead to a lack of different perspectives, increasing the risk of bias in the system.\n",
       "\n",
       "#### Job Displacement\n",
       "\n",
       "- **Automation**: Agentic AI has the potential to automate many jobs, leading to significant job displacement.\n",
       "- **Skills Obsolescence**: As agentic AI takes over routine tasks, workers may need to acquire new skills to remain relevant, but this can be a challenging and time-consuming process.\n",
       "\n",
       "#### Mitigation Strategies\n",
       "\n",
       "- **Transparency and Explainability**: Developing systems that provide clear explanations for their actions can help mitigate unintended consequences.\n",
       "- **Diverse Development Teams**: Encouraging diversity in development teams can help identify and mitigate bias in the system.\n",
       "- **Upskilling and Reskilling**: Providing workers with opportunities to acquire new skills can help mitigate job displacement.\n",
       "\n",
       "#### Ensuring Responsible Development and Use\n",
       "\n",
       "- **Regulation**: Establishing clear regulations and guidelines for the development and use of agentic AI can help ensure that it is developed and used responsibly.\n",
       "- **Public Engagement**: Engaging with the public about the potential risks and benefits of agentic AI can help build trust and ensure that it is used in a way that benefits society as a whole.\n",
       "\n",
       "---\n",
       "\n",
       "### Real-World Applications\n",
       "\n",
       "#### Robotics\n",
       "\n",
       "Agentic AI is being integrated into robots to enable them to perform complex tasks autonomously. These robots can learn from their environment and adapt to new situations, making them ideal for applications such as assembly lines, search and rescue, and service robots. For instance, agentic AI-powered robots can assist in tasks like cleaning, cooking, and delivering items, making daily life easier and more efficient.\n",
       "\n",
       "#### Autonomous Vehicles\n",
       "\n",
       "Agentic AI is also being used in the development of autonomous vehicles, which can navigate through roads and traffic without human intervention. These vehicles use a combination of sensors, mapping data, and machine learning algorithms to make decisions and respond to their environment. Autonomous vehicles have the potential to significantly reduce accidents, improve traffic flow, and enhance mobility for the elderly and disabled.\n",
       "\n",
       "#### Customer Service Chatbots\n",
       "\n",
       "Agentic AI is being used to power customer service chatbots that can understand and respond to customer inquiries in a more human-like way. These chatbots can learn from customer interactions and adapt to new scenarios, making them ideal for applications such as customer support, sales, and marketing. Agentic AI-powered chatbots can provide 24/7 support, reduce response times, and improve customer satisfaction.\n",
       "\n",
       "#### Industry Transformation and Improved Lives\n",
       "\n",
       "The real-world applications of agentic AI have the potential to transform industries and improve lives. By enabling robots and autonomous vehicles to perform complex tasks autonomously, agentic AI can improve efficiency, reduce costs, and increase productivity. Additionally, agentic AI-powered chatbots can provide better customer support, improve customer satisfaction, and enhance customer experience. As agentic AI continues to evolve, it is likely to have a significant impact on various industries and aspects of our lives.\n",
       "\n",
       "---\n",
       "\n",
       "### Future Directions\n",
       "\n",
       "#### 1. Explainability and Transparency\n",
       "\n",
       "* **Developing Explainable AI Models**: Creating AI models that can provide clear explanations for their decision-making processes is crucial for building trust in agentic AI systems.\n",
       "* **Transparency in AI Decision-Making**: Implementing transparent decision-making processes will enable users to understand how AI systems arrive at their conclusions, promoting accountability and trust.\n",
       "* **Explainable AI Techniques**: Exploring techniques such as feature attribution, model interpretability, and causal reasoning can help to improve the explainability of AI models.\n",
       "\n",
       "#### 2. Accountability\n",
       "\n",
       "* **Establishing AI Safety Standards**: Developing safety standards and guidelines for agentic AI systems will ensure that they operate within predetermined boundaries, preventing potential harm to humans and society.\n",
       "* **Accountability Mechanisms**: Implementing mechanisms for identifying and addressing AI errors or malfunctions will promote accountability and responsibility in AI development.\n",
       "* **Human Oversight and Review**: Integrating human oversight and review processes into AI decision-making can help to mitigate potential risks and ensure that AI systems operate in a responsible manner.\n",
       "\n",
       "#### 3. Societal Impact and Benefit\n",
       "\n",
       "* **Agentic AI for Social Good**: Exploring the use of agentic AI for social good initiatives, such as education, healthcare, and environmental sustainability, can help to create positive societal impacts.\n",
       "* **Human-AI Collaboration**: Developing AI systems that can collaborate effectively with humans can lead to the creation of more efficient and effective solutions to complex problems.\n",
       "* **Responsible AI Development**: Ensuring that agentic AI systems are developed and deployed in a responsible manner, with consideration for their potential societal impacts, is essential for promoting trust and adoption."
      ],
      "text/plain": [
       "<IPython.core.display.Markdown object>"
      ]
     },
     "execution_count": 12,
     "metadata": {},
     "output_type": "execute_result"
    }
   ],
   "source": [
    "state = orchestrator_worker.invoke({\"topic\": \"create a report on agentic ai rags\"})\n",
    "\n",
    "from IPython.display import Markdown\n",
    "\n",
    "Markdown(state[\"final_report\"])"
   ]
  },
  {
   "cell_type": "code",
   "execution_count": null,
   "id": "2d29f87a",
   "metadata": {},
   "outputs": [],
   "source": []
  },
  {
   "cell_type": "code",
   "execution_count": null,
   "id": "a2a1b4df",
   "metadata": {},
   "outputs": [],
   "source": []
  }
 ],
 "metadata": {
  "kernelspec": {
   "display_name": "Python 3",
   "language": "python",
   "name": "python3"
  },
  "language_info": {
   "codemirror_mode": {
    "name": "ipython",
    "version": 3
   },
   "file_extension": ".py",
   "mimetype": "text/x-python",
   "name": "python",
   "nbconvert_exporter": "python",
   "pygments_lexer": "ipython3",
   "version": "3.13.5"
  }
 },
 "nbformat": 4,
 "nbformat_minor": 5
}
