{
 "cells": [
  {
   "cell_type": "code",
   "execution_count": null,
   "id": "48668b48",
   "metadata": {},
   "outputs": [],
   "source": [
    "from dotenv import load_dotenv\n",
    "from langchain_groq import ChatGroq\n",
    "import os \n",
    "\n",
    "os.environ['GROQ_API_KEY']=os.getenv('GROQ_API_KEY')\n",
    "\n",
    "llm=ChatGroq(model=\"llama-3.1-8b-instant\")\n",
    "llm.invoke('hello').content"
   ]
  },
  {
   "cell_type": "code",
   "execution_count": null,
   "id": "76be0f5e",
   "metadata": {},
   "outputs": [],
   "source": [
    "def multiply(a: int,b:int)-> int:\n",
    "    \"\"\"Multiply a and b \n",
    "    Args:\n",
    "        a: first int \n",
    "        b: second int\n",
    "\n",
    "    \"\"\"\n",
    "\n",
    "    return a * b\n",
    "\n",
    "def add(a:int, b:int)->int:\n",
    "    \"\"\" Adds a and b.\n",
    "\n",
    "    Args:\n",
    "    a: first int \n",
    "    b: second int \n",
    "    \"\"\"\n",
    "\n",
    "    return a + b\n",
    "\n",
    "def divide(a:int,b:int)->float:\n",
    "    \"\"\"Divide a by bin\n",
    "    \n",
    "    Args:\n",
    "        a: first int \n",
    "        b: second int\n",
    "    \n",
    "    \"\"\"\n",
    "    return a / b\n",
    "    "
   ]
  },
  {
   "cell_type": "code",
   "execution_count": null,
   "id": "dedfc011",
   "metadata": {},
   "outputs": [],
   "source": [
    "tools=[add,multiply,divide]\n",
    "tools"
   ]
  },
  {
   "cell_type": "code",
   "execution_count": null,
   "id": "b3709566",
   "metadata": {},
   "outputs": [],
   "source": [
    "llm_with_tools=llm.bind_tools(tools)\n",
    "llm_with_tools"
   ]
  },
  {
   "cell_type": "code",
   "execution_count": null,
   "id": "ca9d6c86",
   "metadata": {},
   "outputs": [],
   "source": [
    "from langgraph.graph import StateGraph,START,END\n",
    "from langgraph.graph import MessagesState\n",
    "from langgraph.checkpoint.memory import MemorySaver\n",
    "from langgraph.prebuilt import tools_condition, ToolNode\n",
    "from langchain_core.messages import AIMessage,HumanMessage,SystemMessage\n",
    "from IPython.display import display,Image\n",
    "\n",
    "\n"
   ]
  },
  {
   "cell_type": "code",
   "execution_count": null,
   "id": "9fe149d4",
   "metadata": {},
   "outputs": [],
   "source": [
    "sys_msg=SystemMessage(content=\"You are a helpful assistant tasked with performing arthmetic on a set of input \")\n",
    "\n",
    "def assistant(state:MessagesState):\n",
    "    return {\"messages\":[llm_with_tools.invoke([sys_msg] + state[\"messages\"])]}\n"
   ]
  },
  {
   "cell_type": "code",
   "execution_count": null,
   "id": "cc82d028",
   "metadata": {},
   "outputs": [],
   "source": [
    "builder=StateGraph(MessagesState)\n",
    "\n",
    "builder.add_node(\"assistant\",assistant)\n",
    "builder.add_node(\"tools\",ToolNode(tools))\n",
    "\n",
    "\n",
    "builder.add_edge(START,'assistant')\n",
    "builder.add_conditional_edges(\n",
    "    'assistant',\n",
    "    #if the latest message(result) from assistant is a tool call -> tools_condition routes to tools\n",
    "    #if the latest message(result) from assistant is not a tool call -> tools_condition routes to END\n",
    "    \n",
    "    tools_condition,\n",
    ")\n",
    "builder.add_edge('tools',\"assistant\")\n",
    "\n",
    "memory=MemorySaver()\n",
    "\n",
    "graph=builder.compile(interrupt_before=['assistant'],checkpointer=memory)\n",
    "\n",
    "display(Image(graph.get_graph().draw_mermaid_png()))\n",
    "\n"
   ]
  },
  {
   "cell_type": "code",
   "execution_count": null,
   "id": "f25ecc09",
   "metadata": {},
   "outputs": [],
   "source": [
    "thread={\"configurable\":{\"thread_id\":\"123\"}}\n",
    "intial_input={\"messages\":HumanMessage(content=\"multiply 2 and 3 \")}"
   ]
  },
  {
   "cell_type": "code",
   "execution_count": null,
   "id": "02ae9752",
   "metadata": {},
   "outputs": [],
   "source": [
    "for event in graph.stream(intial_input,thread,stream_mode=\"values\"):\n",
    "    event['messages'][-1].pretty_print()"
   ]
  },
  {
   "cell_type": "code",
   "execution_count": null,
   "id": "16887573",
   "metadata": {},
   "outputs": [],
   "source": [
    "state=graph.get_state(thread)\n",
    "state.next"
   ]
  },
  {
   "cell_type": "code",
   "execution_count": null,
   "id": "2414d1be",
   "metadata": {},
   "outputs": [],
   "source": [
    "state"
   ]
  },
  {
   "cell_type": "code",
   "execution_count": null,
   "id": "298859ff",
   "metadata": {},
   "outputs": [],
   "source": [
    "for event in graph.stream(None,thread,stream_mode=\"values\"):\n",
    "    event['messages'][-1].pretty_print()"
   ]
  },
  {
   "cell_type": "code",
   "execution_count": null,
   "id": "5e472fd7",
   "metadata": {},
   "outputs": [],
   "source": [
    "for event in graph.stream(None,thread,stream_mode=\"values\"):\n",
    "    event['messages'][-1].pretty_print()"
   ]
  },
  {
   "cell_type": "code",
   "execution_count": null,
   "id": "15fab6e7",
   "metadata": {},
   "outputs": [],
   "source": [
    "intial_input={'messages':HumanMessage(content=\"multiply 2 and 3\")}\n",
    "\n",
    "thread={'configurable':{\"thread_id\":'1'}}\n",
    "for event in graph.stream(intial_input,thread,stream_mode='values'):\n",
    "    event['messages'][-1].pretty_print()"
   ]
  },
  {
   "cell_type": "code",
   "execution_count": null,
   "id": "b2c6fc22",
   "metadata": {},
   "outputs": [],
   "source": [
    "state=graph.get_state(thread)\n",
    "state.next"
   ]
  },
  {
   "cell_type": "code",
   "execution_count": null,
   "id": "6bcc1548",
   "metadata": {},
   "outputs": [],
   "source": [
    "graph.update_state(thread,{\"messages\":[HumanMessage(content=\"No please multiply 15 and 6\")]})"
   ]
  },
  {
   "cell_type": "code",
   "execution_count": null,
   "id": "bc76a121",
   "metadata": {},
   "outputs": [],
   "source": [
    "new_state=graph.get_state(thread).values\n",
    "\n",
    "for m in new_state['messages']:\n",
    "    m.pretty_print()"
   ]
  },
  {
   "cell_type": "code",
   "execution_count": null,
   "id": "af65c7b6",
   "metadata": {},
   "outputs": [],
   "source": [
    "for event in graph.stream(None,thread,stream_mode=\"values\"):\n",
    "    event['messages'][-1].pretty_print()"
   ]
  },
  {
   "cell_type": "markdown",
   "id": "a73ca95c",
   "metadata": {},
   "source": [
    "# Workflow will wait for the user input"
   ]
  },
  {
   "cell_type": "code",
   "execution_count": 31,
   "id": "9ff1d91b",
   "metadata": {},
   "outputs": [
    {
     "data": {
      "image/png": "[encoded data removed]",
      "text/plain": [
       "<IPython.core.display.Image object>"
      ]
     },
     "metadata": {},
     "output_type": "display_data"
    }
   ],
   "source": [
    "sys_message=HumanMessage(content=\"You are a helpful assistant tasked with performing arithmetic on a set of inputs.\")\n",
    "\n",
    "\n",
    "def Human_feedback(state:MessagesState):\n",
    "    pass\n",
    "\n",
    "def assistant(state:MessagesState):\n",
    "    return {\"messages\":[llm_with_tools.invoke([sys_msg] + state[\"messages\"])]}\n",
    "\n",
    "builder=StateGraph(MessagesState)\n",
    "builder.add_node(\"assistant\",assistant)\n",
    "builder.add_node(\"tools\",ToolNode(tools))\n",
    "builder.add_node(\"human_feedback\",Human_feedback)\n",
    "\n",
    "\n",
    "builder.add_edge(START,'human_feedback')\n",
    "builder.add_edge(\"human_feedback\",\"assistant\")\n",
    "builder.add_conditional_edges(\n",
    "    \"assistant\",\n",
    "    #if the latest message(result) from assistant is a tool call -> tools_condition routes to tools\n",
    "    #if the latest message(result) from assistant is not a tool call -> tools_condition routes to END\n",
    "    tools_condition,\n",
    ")\n",
    "builder.add_edge('tools',\"human_feedback\")\n",
    "\n",
    "memory=MemorySaver()\n",
    "graph=builder.compile(interrupt_before=['human_feedback'],checkpointer=memory)\n",
    "\n",
    "display(Image(graph.get_graph().draw_mermaid_png()))\n",
    "\n"
   ]
  },
  {
   "cell_type": "code",
   "execution_count": 32,
   "id": "21c9b5c6",
   "metadata": {},
   "outputs": [
    {
     "name": "stdout",
     "output_type": "stream",
     "text": [
      "================================\u001b[1m Human Message \u001b[0m=================================\n",
      "\n",
      "multiply 2 and 3\n",
      "================================\u001b[1m Human Message \u001b[0m=================================\n",
      "\n",
      "multiply 5 and 6 instead of 2 and 3\n",
      "==================================\u001b[1m Ai Message \u001b[0m==================================\n",
      "Tool Calls:\n",
      "  multiply (ptvtfw21g)\n",
      " Call ID: ptvtfw21g\n",
      "  Args:\n",
      "    a: 5\n",
      "    b: 6\n",
      "=================================\u001b[1m Tool Message \u001b[0m=================================\n",
      "Name: multiply\n",
      "\n",
      "30\n"
     ]
    }
   ],
   "source": [
    "intial_input={\"messages\":\"multiply 2 and 3\"}\n",
    "\n",
    "thread={\"configurable\":{\"thread_id\":\"5\"}}\n",
    "\n",
    "for event in graph.stream(intial_input,thread,stream_mode=\"values\"):\n",
    "    event[\"messages\"][-1].pretty_print()\n",
    "\n",
    "user_input=input(\"Tell me how you want to update the state:\")\n",
    "graph.update_state(thread,{\"messages\":user_input},as_node=\"human_feedback\")\n",
    "\n",
    "for event in graph.stream(None,thread,stream_mode=\"values\"):\n",
    "    event['messages'][-1].pretty_print()"
   ]
  },
  {
   "cell_type": "code",
   "execution_count": null,
   "id": "9282eca9",
   "metadata": {},
   "outputs": [],
   "source": []
  }
 ],
 "metadata": {
  "kernelspec": {
   "display_name": "Python 3",
   "language": "python",
   "name": "python3"
  },
  "language_info": {
   "codemirror_mode": {
    "name": "ipython",
    "version": 3
   },
   "file_extension": ".py",
   "mimetype": "text/x-python",
   "name": "python",
   "nbconvert_exporter": "python",
   "pygments_lexer": "ipython3",
   "version": "3.13.5"
  }
 },
 "nbformat": 4,
 "nbformat_minor": 5
}
