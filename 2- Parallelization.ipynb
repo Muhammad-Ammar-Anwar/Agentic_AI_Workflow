{
 "cells": [
  {
   "cell_type": "code",
   "execution_count": 11,
   "id": "01e338c3",
   "metadata": {},
   "outputs": [
    {
     "data": {
      "text/plain": [
       "'Hello. Is there something I can help you with or would you like to chat?'"
      ]
     },
     "execution_count": 11,
     "metadata": {},
     "output_type": "execute_result"
    }
   ],
   "source": [
    "import os \n",
    "from dotenv import load_dotenv\n",
    "load_dotenv()\n",
    "\n",
    "from langchain_groq import ChatGroq\n",
    "os.environ['GROQ_API_KEY']=os.getenv('GROQ_API_KEY')\n",
    "\n",
    "llm=ChatGroq(model='llama-3.1-8b-instant')\n",
    "llm.invoke('hello').content"
   ]
  },
  {
   "cell_type": "code",
   "execution_count": 12,
   "id": "4882ed20",
   "metadata": {},
   "outputs": [],
   "source": [
    "from typing_extensions import TypedDict\n",
    "from langgraph.graph import StateGraph,START,END\n",
    "from IPython.display import Image,display\n",
    "\n",
    "class State(TypedDict):\n",
    "    topic:str \n",
    "    characters:str\n",
    "    settings: str\n",
    "    premises : str\n",
    "    story_intro: str"
   ]
  },
  {
   "cell_type": "code",
   "execution_count": 13,
   "id": "1a953783",
   "metadata": {},
   "outputs": [],
   "source": [
    "def generate_characters(state: State):\n",
    "    msg=llm.invoke(f\"create two character names and brief traits for a story about {state['topic']}\")\n",
    "    return {\"characters\": msg.content}\n",
    "    "
   ]
  },
  {
   "cell_type": "code",
   "execution_count": 14,
   "id": "aa3e633b",
   "metadata": {},
   "outputs": [],
   "source": [
    "def generate_setting (state:State):\n",
    "    msg=llm.invoke(f\"Describe a vivid setting for a story about {state['topic']}\")\n",
    "    return {'settings':msg.content}"
   ]
  },
  {
   "cell_type": "code",
   "execution_count": 15,
   "id": "3b96f100",
   "metadata": {},
   "outputs": [],
   "source": [
    "def generate_premise(state:State):\n",
    "    msg=llm.invoke(f'Write a one-sentence plot premise for a story about {state['topic']}')\n",
    "    return {'premises':msg.content}"
   ]
  },
  {
   "cell_type": "code",
   "execution_count": 16,
   "id": "1529ea5c",
   "metadata": {},
   "outputs": [],
   "source": [
    "def combine_elements(state:State):\n",
    "    msg=llm.invoke(\n",
    "        f\"Write a short story introduction using these elements:\\n\"\n",
    "        f\"Characters: {state['characters']}\\n\"\n",
    "        f\"Settings: {state['settings']}\\n\"\n",
    "        f\"Premise: {state['premises']}\"\n",
    "    )\n",
    "    return {'story_intro':msg.content}"
   ]
  },
  {
   "cell_type": "code",
   "execution_count": 17,
   "id": "fc0181ce",
   "metadata": {},
   "outputs": [
    {
     "data": {
      "text/plain": [
       "<langgraph.graph.state.StateGraph at 0x78948973f4d0>"
      ]
     },
     "execution_count": 17,
     "metadata": {},
     "output_type": "execute_result"
    }
   ],
   "source": [
    "graph=StateGraph(State)\n",
    "graph.add_node(\"character\",generate_characters)\n",
    "graph.add_node(\"settings\",generate_setting)\n",
    "graph.add_node(\"premise\",generate_premise)\n",
    "graph.add_node(\"combine\",combine_elements)"
   ]
  },
  {
   "cell_type": "code",
   "execution_count": 18,
   "id": "b22e608f",
   "metadata": {},
   "outputs": [
    {
     "data": {
      "image/png": "[encoded data removed]",
      "text/plain": [
       "<IPython.core.display.Image object>"
      ]
     },
     "metadata": {},
     "output_type": "display_data"
    }
   ],
   "source": [
    "graph.add_edge(START,\"character\")\n",
    "graph.add_edge(START,\"premise\")\n",
    "graph.add_edge(START,\"settings\")\n",
    "\n",
    "graph.add_edge('character','combine')\n",
    "graph.add_edge('premise','combine')\n",
    "graph.add_edge('settings','combine')\n",
    "\n",
    "graph.add_edge('combine',END)\n",
    "\n",
    "compiled_graph=graph.compile()\n",
    "graph_image=compiled_graph.get_graph().draw_mermaid_png()\n",
    "display(Image(graph_image))"
   ]
  },
  {
   "cell_type": "code",
   "execution_count": 19,
   "id": "1d41e39b",
   "metadata": {},
   "outputs": [
    {
     "name": "stdout",
     "output_type": "stream",
     "text": [
      "As the full moon cast its silvery glow over the city, Evelyn \"Evie\" Thompson stood before the dimly lit clock tower, her eyes fixed on the mysterious portal that had appeared within its crumbling walls. The air was alive with the scent of old wood and dust, and the faint tang of ozone hung heavy over the cobblestone streets below. Despite the eerie atmosphere, Evie felt a thrill of excitement coursing through her veins. She had always been drawn to the unexplained, the unknown, and the clock tower seemed to be the epicenter of a mystery that spanned centuries.\n",
      "\n",
      "With her trusty notebook and pencil in hand, Evie had spent countless hours studying the clock tower's intricate mechanisms and deciphering the cryptic symbols etched into its stone walls. She was a historian and archaeologist, and she knew that this tower held secrets of the past that could rewrite the very fabric of history.\n",
      "\n",
      "Just as Evie was about to step through the portal, a tall, dark-haired figure emerged from the shadows. Ethan \"Hawk\" Hawkins, a brilliant physicist and time travel specialist, flashed a charismatic smile as he approached Evie.\n",
      "\n",
      "\"Careful, kid,\" Hawk warned, his voice low and husky. \"You don't know what you're getting yourself into.\"\n",
      "\n",
      "Evie raised an eyebrow, her eyes narrowing as she regarded Hawk. She had heard rumors about his involvement in a top-secret time travel project, and she was both intrigued and wary.\n",
      "\n",
      "\"I can handle myself,\" Evie said, her voice firm.\n",
      "\n",
      "Hawk chuckled, his eyes glinting with amusement. \"We'll see about that.\"\n",
      "\n",
      "As the two stood before the portal, the clock tower's energy seemed to pulse with an otherworldly power, drawing them in with an irresistible force. Evie felt a shiver run down her spine as she realized that she was about to embark on a journey through time, one that would change her life forever.\n"
     ]
    }
   ],
   "source": [
    "state={'topic':'time travel'}\n",
    "result=compiled_graph.invoke(state)\n",
    "print(result['story_intro'])"
   ]
  },
  {
   "cell_type": "code",
   "execution_count": null,
   "id": "487872e3",
   "metadata": {},
   "outputs": [],
   "source": []
  }
 ],
 "metadata": {
  "kernelspec": {
   "display_name": "Python 3",
   "language": "python",
   "name": "python3"
  },
  "language_info": {
   "codemirror_mode": {
    "name": "ipython",
    "version": 3
   },
   "file_extension": ".py",
   "mimetype": "text/x-python",
   "name": "python",
   "nbconvert_exporter": "python",
   "pygments_lexer": "ipython3",
   "version": "3.13.5"
  }
 },
 "nbformat": 4,
 "nbformat_minor": 5
}
