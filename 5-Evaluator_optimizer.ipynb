{
 "cells": [
  {
   "cell_type": "code",
   "execution_count": 3,
   "id": "bc97eb58",
   "metadata": {},
   "outputs": [
    {
     "data": {
      "text/plain": [
       "'Hello! How can I assist you today?'"
      ]
     },
     "execution_count": 3,
     "metadata": {},
     "output_type": "execute_result"
    }
   ],
   "source": [
    "import os\n",
    "from dotenv import load_dotenv\n",
    "load_dotenv()\n",
    "\n",
    "os.environ['GROQ_API_KEY']=os.getenv('GROQ_API_KEY')\n",
    "\n",
    "from langchain_groq import ChatGroq\n",
    "\n",
    "llm=ChatGroq(model='llama-3.1-8b-instant')\n",
    "llm.invoke('hello').content"
   ]
  },
  {
   "cell_type": "code",
   "execution_count": 5,
   "id": "88d6af57",
   "metadata": {},
   "outputs": [],
   "source": [
    "from typing_extensions import TypedDict,Literal\n",
    "from pydantic import BaseModel,Field\n",
    "from langchain_core.messages import HumanMessage,SystemMessage\n",
    "from typing import Annotated,List\n",
    "import operator\n",
    "\n",
    "class State(TypedDict):\n",
    "    joke:str\n",
    "    topic:str\n",
    "    feedback:str\n",
    "    funny_or_not:str"
   ]
  },
  {
   "cell_type": "code",
   "execution_count": 6,
   "id": "fe2e169f",
   "metadata": {},
   "outputs": [],
   "source": [
    "from langsmith import evaluate\n",
    "\n",
    "\n",
    "class Feedback(BaseModel):\n",
    "    grade: Literal['funny','not funny']=Field(\n",
    "        description=\"Decide if the joke is funny or not.\"\n",
    "    )\n",
    "    feedback:str=Field(\n",
    "        description=\"if the joke is not funny, provide feedback on how to improve it.\"\n",
    "    )\n",
    "\n",
    "evaluator=llm.with_structured_output(Feedback)\n"
   ]
  },
  {
   "cell_type": "code",
   "execution_count": 9,
   "id": "78182585",
   "metadata": {},
   "outputs": [],
   "source": [
    "def llm_call_generator(state: State):\n",
    "    \"\"\"LLM generate a joke\"\"\"\n",
    "\n",
    "    if state.get(\"feedback\"):\n",
    "        msg=llm.invoke(\n",
    "            f\"write a joke about {state['topic']} but take into account the feedback: {state['feedback']}\"\n",
    "\n",
    "        )\n",
    "    else:\n",
    "        msg=llm.invoke(f\"write a joke about {state['topic']}\")\n",
    "    \n",
    "    return {\"joke\":msg.content}\n",
    "\n",
    "\n",
    "def llm_call_evaluator(state:State):\n",
    "    \"\"\"LLM evaluate the joke\"\"\"\n",
    "\n",
    "    grade=evaluator.invoke(f\"Grade the joke {state['joke']}\")\n",
    "    return {'funny_or_not':grade.grade,'feedback':grade.feedback}\n",
    "\n",
    "\n",
    "def route_joke(state:State):\n",
    "    \"\"\"route back to joke generator or end based upon the feedback from the evaluator\"\"\"\n",
    "\n",
    "    if state['funny_or_not'] == \"funny\":\n",
    "        return \"Accepted\"\n",
    "    \n",
    "    elif state[\"funny_or_not\"] == \"not funny\":\n",
    "        return \"Rejected + Feedback\""
   ]
  },
  {
   "cell_type": "code",
   "execution_count": 10,
   "id": "7cf0b209",
   "metadata": {},
   "outputs": [
    {
     "data": {
      "image/png": "[encoded data removed]",
      "text/plain": [
       "<IPython.core.display.Image object>"
      ]
     },
     "metadata": {},
     "output_type": "display_data"
    }
   ],
   "source": [
    "from langgraph.graph import StateGraph,START,END\n",
    "from IPython.display import display,Image\n",
    "\n",
    "optimizer_builder=StateGraph(State)\n",
    "optimizer_builder.add_node(\"llm_call_generator\",llm_call_generator)\n",
    "optimizer_builder.add_node(\"llm_call_evaluator\",llm_call_evaluator)\n",
    "\n",
    "optimizer_builder.add_edge(START,\"llm_call_generator\")\n",
    "optimizer_builder.add_edge(\"llm_call_generator\",\"llm_call_evaluator\")\n",
    "optimizer_builder.add_conditional_edges(\n",
    "    \"llm_call_evaluator\",\n",
    "    route_joke,\n",
    "    {\"Accepted\":END,\n",
    "    \"Rejected + Feedback\":\"llm_call_generator\"\n",
    "    }\n",
    ")\n",
    "optimizer_workflow = optimizer_builder.compile()\n",
    "display(Image(optimizer_workflow.get_graph().draw_mermaid_png()))"
   ]
  },
  {
   "cell_type": "code",
   "execution_count": 11,
   "id": "a2250578",
   "metadata": {},
   "outputs": [
    {
     "name": "stdout",
     "output_type": "stream",
     "text": [
      "Why did the agentic AI system go to therapy?\n",
      "\n",
      "Because it was struggling to find its own goals, but everyone else's desires kept pushing it towards a self-actualization crisis.\n"
     ]
    }
   ],
   "source": [
    "state = optimizer_workflow.invoke({\"topic\":\"Agentic Ai System\"})\n",
    "print(state['joke'])"
   ]
  },
  {
   "cell_type": "code",
   "execution_count": null,
   "id": "d64cd96c",
   "metadata": {},
   "outputs": [],
   "source": []
  }
 ],
 "metadata": {
  "kernelspec": {
   "display_name": "Python 3",
   "language": "python",
   "name": "python3"
  },
  "language_info": {
   "codemirror_mode": {
    "name": "ipython",
    "version": 3
   },
   "file_extension": ".py",
   "mimetype": "text/x-python",
   "name": "python",
   "nbconvert_exporter": "python",
   "pygments_lexer": "ipython3",
   "version": "3.13.5"
  }
 },
 "nbformat": 4,
 "nbformat_minor": 5
}
